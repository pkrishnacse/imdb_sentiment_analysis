{
 "cells": [
  {
   "cell_type": "markdown",
   "metadata": {},
   "source": [
    "# Data Extraction for Supervised Learning"
   ]
  },
  {
   "cell_type": "code",
   "execution_count": 11,
   "metadata": {
    "collapsed": true
   },
   "outputs": [],
   "source": [
    "import os\n",
    "import numpy as np\n",
    "import pandas as pd\n",
    "import re\n",
    "\n",
    "TRAIN_POS_PATH = '../aclImdb/train/pos/'\n",
    "TRAIN_NEG_PATH = '../aclImdb/train/neg/'\n",
    "TEST_POS_PATH = '../aclImdb/test/pos/'\n",
    "TEST_NEG_PATH = '../aclImdb/test/neg/'\n",
    "UNSUP_PATH = '../aclImdb/train/unsup/'"
   ]
  },
  {
   "cell_type": "code",
   "execution_count": 18,
   "metadata": {
    "collapsed": true
   },
   "outputs": [],
   "source": [
    "df_pos_train = pd.DataFrame()\n",
    "text = []\n",
    "sentiment = []\n",
    "\n",
    "for filename in os.listdir(TRAIN_POS_PATH):\n",
    "    if filename.endswith('.txt'):\n",
    "        with open(os.path.join(TRAIN_POS_PATH,filename),\"r\") as f:\n",
    "            text.append(f.read())\n",
    "        sentiment.append(1)\n",
    "        "
   ]
  },
  {
   "cell_type": "code",
   "execution_count": 19,
   "metadata": {
    "collapsed": true
   },
   "outputs": [],
   "source": [
    "df_pos_train['Text'] = pd.Series(text)\n",
    "df_pos_train['Sentiment'] = pd.Series(sentiment)"
   ]
  },
  {
   "cell_type": "code",
   "execution_count": 20,
   "metadata": {},
   "outputs": [
    {
     "data": {
      "text/html": [
       "<div>\n",
       "<style scoped>\n",
       "    .dataframe tbody tr th:only-of-type {\n",
       "        vertical-align: middle;\n",
       "    }\n",
       "\n",
       "    .dataframe tbody tr th {\n",
       "        vertical-align: top;\n",
       "    }\n",
       "\n",
       "    .dataframe thead th {\n",
       "        text-align: right;\n",
       "    }\n",
       "</style>\n",
       "<table border=\"1\" class=\"dataframe\">\n",
       "  <thead>\n",
       "    <tr style=\"text-align: right;\">\n",
       "      <th></th>\n",
       "      <th>Text</th>\n",
       "      <th>Sentiment</th>\n",
       "    </tr>\n",
       "  </thead>\n",
       "  <tbody>\n",
       "    <tr>\n",
       "      <th>0</th>\n",
       "      <td>Hurrah! A space film that doesn't take itself ...</td>\n",
       "      <td>1</td>\n",
       "    </tr>\n",
       "    <tr>\n",
       "      <th>1</th>\n",
       "      <td>Man on fire, is definitely one of the best dra...</td>\n",
       "      <td>1</td>\n",
       "    </tr>\n",
       "    <tr>\n",
       "      <th>2</th>\n",
       "      <td>The original movie, The Odd Couple, has some w...</td>\n",
       "      <td>1</td>\n",
       "    </tr>\n",
       "    <tr>\n",
       "      <th>3</th>\n",
       "      <td>Tim Meadows has to be the most underrated of S...</td>\n",
       "      <td>1</td>\n",
       "    </tr>\n",
       "    <tr>\n",
       "      <th>4</th>\n",
       "      <td>The perfect space fantasy film. a group of kid...</td>\n",
       "      <td>1</td>\n",
       "    </tr>\n",
       "  </tbody>\n",
       "</table>\n",
       "</div>"
      ],
      "text/plain": [
       "                                                Text  Sentiment\n",
       "0  Hurrah! A space film that doesn't take itself ...          1\n",
       "1  Man on fire, is definitely one of the best dra...          1\n",
       "2  The original movie, The Odd Couple, has some w...          1\n",
       "3  Tim Meadows has to be the most underrated of S...          1\n",
       "4  The perfect space fantasy film. a group of kid...          1"
      ]
     },
     "execution_count": 20,
     "metadata": {},
     "output_type": "execute_result"
    }
   ],
   "source": [
    "df_pos_train.head()"
   ]
  },
  {
   "cell_type": "code",
   "execution_count": 21,
   "metadata": {
    "collapsed": true
   },
   "outputs": [],
   "source": [
    "df_neg_train = pd.DataFrame()\n",
    "text = []\n",
    "sentiment = []\n",
    "\n",
    "for filename in os.listdir(TRAIN_NEG_PATH):\n",
    "    if filename.endswith('.txt'):\n",
    "        with open(os.path.join(TRAIN_NEG_PATH,filename),\"r\") as f:\n",
    "            text.append(f.read())\n",
    "        sentiment.append(0)"
   ]
  },
  {
   "cell_type": "code",
   "execution_count": 22,
   "metadata": {
    "collapsed": true
   },
   "outputs": [],
   "source": [
    "df_neg_train['Text'] = pd.Series(text)\n",
    "df_neg_train['Sentiment'] = pd.Series(sentiment)"
   ]
  },
  {
   "cell_type": "code",
   "execution_count": 24,
   "metadata": {},
   "outputs": [
    {
     "data": {
      "text/plain": [
       "12500"
      ]
     },
     "execution_count": 24,
     "metadata": {},
     "output_type": "execute_result"
    }
   ],
   "source": [
    "len(df_neg_train)"
   ]
  },
  {
   "cell_type": "code",
   "execution_count": 25,
   "metadata": {
    "collapsed": true
   },
   "outputs": [],
   "source": [
    "df_pos_test = pd.DataFrame()\n",
    "text = []\n",
    "sentiment = []\n",
    "\n",
    "for filename in os.listdir(TEST_POS_PATH):\n",
    "    if filename.endswith('.txt'):\n",
    "        with open(os.path.join(TEST_POS_PATH,filename),\"r\") as f:\n",
    "            text.append(f.read())\n",
    "        sentiment.append(1)"
   ]
  },
  {
   "cell_type": "code",
   "execution_count": 26,
   "metadata": {
    "collapsed": true
   },
   "outputs": [],
   "source": [
    "df_pos_test['Text'] = pd.Series(text)\n",
    "df_pos_test['Sentiment'] = pd.Series(sentiment)"
   ]
  },
  {
   "cell_type": "code",
   "execution_count": 27,
   "metadata": {
    "collapsed": true
   },
   "outputs": [],
   "source": [
    "df_neg_test = pd.DataFrame()\n",
    "text = []\n",
    "sentiment = []\n",
    "\n",
    "for filename in os.listdir(TEST_NEG_PATH):\n",
    "    if filename.endswith('.txt'):\n",
    "        with open(os.path.join(TEST_NEG_PATH,filename),\"r\") as f:\n",
    "            text.append(f.read())\n",
    "        sentiment.append(0)"
   ]
  },
  {
   "cell_type": "code",
   "execution_count": 28,
   "metadata": {
    "collapsed": true
   },
   "outputs": [],
   "source": [
    "df_neg_test['Text'] = pd.Series(text)\n",
    "df_neg_test['Sentiment'] = pd.Series(sentiment)"
   ]
  },
  {
   "cell_type": "code",
   "execution_count": 29,
   "metadata": {},
   "outputs": [
    {
     "data": {
      "text/plain": [
       "12500"
      ]
     },
     "execution_count": 29,
     "metadata": {},
     "output_type": "execute_result"
    }
   ],
   "source": [
    "len(df_neg_test)"
   ]
  },
  {
   "cell_type": "code",
   "execution_count": 30,
   "metadata": {
    "collapsed": true
   },
   "outputs": [],
   "source": [
    "df_pos_train.to_csv(\"train_pos.tsv\",sep='\\t')\n",
    "df_neg_train.to_csv(\"train_neg.tsv\",sep='\\t')\n",
    "df_pos_test.to_csv(\"test_pos.tsv\",sep='\\t')\n",
    "df_neg_test.to_csv(\"test_neg.tsv\",sep='\\t')"
   ]
  },
  {
   "cell_type": "code",
   "execution_count": 31,
   "metadata": {
    "collapsed": true
   },
   "outputs": [],
   "source": [
    "df_unsup = pd.DataFrame()\n",
    "text = []\n",
    "\n",
    "for filename in os.listdir(UNSUP_PATH):\n",
    "    if filename.endswith('.txt'):\n",
    "        with open(os.path.join(UNSUP_PATH,filename),\"r\") as f:\n",
    "            text.append(f.read())\n",
    "        "
   ]
  },
  {
   "cell_type": "code",
   "execution_count": 32,
   "metadata": {
    "collapsed": true
   },
   "outputs": [],
   "source": [
    "df_unsup['Text'] = pd.Series(text)"
   ]
  },
  {
   "cell_type": "code",
   "execution_count": 35,
   "metadata": {},
   "outputs": [
    {
     "data": {
      "text/plain": [
       "50000"
      ]
     },
     "execution_count": 35,
     "metadata": {},
     "output_type": "execute_result"
    }
   ],
   "source": [
    "len(df_unsup)"
   ]
  },
  {
   "cell_type": "code",
   "execution_count": 36,
   "metadata": {},
   "outputs": [
    {
     "data": {
      "text/html": [
       "<div>\n",
       "<style scoped>\n",
       "    .dataframe tbody tr th:only-of-type {\n",
       "        vertical-align: middle;\n",
       "    }\n",
       "\n",
       "    .dataframe tbody tr th {\n",
       "        vertical-align: top;\n",
       "    }\n",
       "\n",
       "    .dataframe thead th {\n",
       "        text-align: right;\n",
       "    }\n",
       "</style>\n",
       "<table border=\"1\" class=\"dataframe\">\n",
       "  <thead>\n",
       "    <tr style=\"text-align: right;\">\n",
       "      <th></th>\n",
       "      <th>Text</th>\n",
       "    </tr>\n",
       "  </thead>\n",
       "  <tbody>\n",
       "    <tr>\n",
       "      <th>0</th>\n",
       "      <td>When I saw El Charro, the first thought that p...</td>\n",
       "    </tr>\n",
       "    <tr>\n",
       "      <th>1</th>\n",
       "      <td>This movie was really great, and in my opinion...</td>\n",
       "    </tr>\n",
       "    <tr>\n",
       "      <th>2</th>\n",
       "      <td>I love Sarah Michelle Gellar, she is capable o...</td>\n",
       "    </tr>\n",
       "    <tr>\n",
       "      <th>3</th>\n",
       "      <td>When I rented this movie, I didn't have too hi...</td>\n",
       "    </tr>\n",
       "    <tr>\n",
       "      <th>4</th>\n",
       "      <td>Recipe for Meat Pie... Ingredients: Some incom...</td>\n",
       "    </tr>\n",
       "  </tbody>\n",
       "</table>\n",
       "</div>"
      ],
      "text/plain": [
       "                                                Text\n",
       "0  When I saw El Charro, the first thought that p...\n",
       "1  This movie was really great, and in my opinion...\n",
       "2  I love Sarah Michelle Gellar, she is capable o...\n",
       "3  When I rented this movie, I didn't have too hi...\n",
       "4  Recipe for Meat Pie... Ingredients: Some incom..."
      ]
     },
     "execution_count": 36,
     "metadata": {},
     "output_type": "execute_result"
    }
   ],
   "source": [
    "df_unsup.head()"
   ]
  },
  {
   "cell_type": "code",
   "execution_count": 34,
   "metadata": {
    "collapsed": true
   },
   "outputs": [],
   "source": [
    "df_unsup.to_csv(\"train_unsup.tsv\",sep='\\t')"
   ]
  }
 ],
 "metadata": {
  "kernelspec": {
   "display_name": "Python 3",
   "language": "python",
   "name": "python3"
  },
  "language_info": {
   "codemirror_mode": {
    "name": "ipython",
    "version": 3
   },
   "file_extension": ".py",
   "mimetype": "text/x-python",
   "name": "python",
   "nbconvert_exporter": "python",
   "pygments_lexer": "ipython3",
   "version": "3.5.2"
  }
 },
 "nbformat": 4,
 "nbformat_minor": 2
}
